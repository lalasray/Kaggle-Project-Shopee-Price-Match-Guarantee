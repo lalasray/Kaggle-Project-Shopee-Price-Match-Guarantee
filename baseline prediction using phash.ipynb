{
 "cells": [
  {
   "cell_type": "code",
   "execution_count": 1,
   "metadata": {},
   "outputs": [
    {
     "name": "stderr",
     "output_type": "stream",
     "text": [
      "C:\\Users\\Lala\\anaconda3\\lib\\site-packages\\tqdm\\std.py:668: FutureWarning: The Panel class is removed from pandas. Accessing it from the top-level namespace will also be removed in the next version\n",
      "  from pandas import Panel\n"
     ]
    }
   ],
   "source": [
    "import numpy as np\n",
    "import pandas as pd\n",
    "import matplotlib.pyplot as plt\n",
    "import tqdm\n",
    "from tqdm.auto import tqdm as tqdmp\n",
    "tqdmp.pandas()\n",
    "import imagehash\n",
    "import cv2, os\n",
    "import skimage.io as io\n",
    "from PIL import Image\n",
    "import warnings\n",
    "warnings.simplefilter(\"ignore\")"
   ]
  },
  {
   "cell_type": "code",
   "execution_count": 2,
   "metadata": {},
   "outputs": [
    {
     "data": {
      "text/plain": [
       "['sample_submission.csv',\n",
       " 'test.csv',\n",
       " 'test_images',\n",
       " 'train.csv',\n",
       " 'train_images']"
      ]
     },
     "execution_count": 2,
     "metadata": {},
     "output_type": "execute_result"
    }
   ],
   "source": [
    "WORK_DIR = 'C:/Users/Lala/Desktop/dataset'\n",
    "os.listdir(WORK_DIR)"
   ]
  },
  {
   "cell_type": "code",
   "execution_count": 3,
   "metadata": {},
   "outputs": [
    {
     "name": "stdout",
     "output_type": "stream",
     "text": [
      "---------------------------------------- Train head ----------------------------------------\n",
      "         posting_id                                 image       image_phash  \\\n",
      "0   train_129225211  0000a68812bc7e98c42888dfb1c07da0.jpg  94974f937d4c2433   \n",
      "1  train_3386243561  00039780dfc94d01db8676fe789ecd05.jpg  af3f9460c2838f0f   \n",
      "2  train_2288590299  000a190fdd715a2a36faed16e2c65df7.jpg  b94cb00ed3e50f78   \n",
      "3  train_2406599165  00117e4fc239b1b641ff08340b429633.jpg  8514fc58eafea283   \n",
      "4  train_3369186413  00136d1cf4edede0203f32f05f660588.jpg  a6f319f924ad708c   \n",
      "\n",
      "                                               title  label_group  \n",
      "0                          Paper Bag Victoria Secret    249114794  \n",
      "1  Double Tape 3M VHB 12 mm x 4,5 m ORIGINAL / DO...   2937985045  \n",
      "2        Maling TTS Canned Pork Luncheon Meat 397 gr   2395904891  \n",
      "3  Daster Batik Lengan pendek - Motif Acak / Camp...   4093212188  \n",
      "4                  Nescafe \\xc3\\x89clair Latte 220ml   3648931069  \n",
      "---------------------------------------- Test head ----------------------------------------\n",
      "        posting_id                                 image       image_phash  \\\n",
      "0  test_2255846744  0006c8e5462ae52167402bac1c2e916e.jpg  ecc292392dc7687a   \n",
      "1  test_3588702337  0007585c4d0f932859339129f709bfdc.jpg  e9968f60d2699e2c   \n",
      "2  test_4015706929  0008377d3662e83ef44e1881af38b879.jpg  ba81c17e3581cabe   \n",
      "\n",
      "                                               title  \n",
      "0  Edufuntoys - CHARACTER PHONE ada lampu dan mus...  \n",
      "1  (Beli 1 Free Spatula) Masker Komedo | Blackhea...  \n",
      "2   READY Lemonilo Mie instant sehat kuah dan goreng  \n",
      "------------------------------ Sample submission head ------------------------------\n",
      "                         matches\n",
      "posting_id                      \n",
      "test_2255846744  test_2255846744\n",
      "test_3588702337  test_3588702337\n",
      "test_4015706929  test_4015706929\n"
     ]
    }
   ],
   "source": [
    "train = pd.read_csv('C:/Users/Lala/Desktop/dataset/train.csv')\n",
    "test = pd.read_csv('C:/Users/Lala/Desktop/dataset/test.csv')\n",
    "ss = pd.read_csv('C:/Users/Lala/Desktop/dataset/sample_submission.csv', index_col = 0)\n",
    "print('-'*40, 'Train head', '-'*40)\n",
    "print(train.head())\n",
    "print('-'*40, 'Test head', '-'*40)\n",
    "print(test.head())\n",
    "print('-'*30, 'Sample submission head', '-'*30)\n",
    "print(ss.head())"
   ]
  },
  {
   "cell_type": "code",
   "execution_count": 4,
   "metadata": {},
   "outputs": [
    {
     "name": "stdout",
     "output_type": "stream",
     "text": [
      "Train images: 32412\n",
      "Test images: 3\n"
     ]
    }
   ],
   "source": [
    "print('Train images: %d' %len(os.listdir(os.path.join(WORK_DIR, \"train_images\"))))\n",
    "print('Test images: %d' %len(os.listdir(os.path.join(WORK_DIR, \"test_images\"))))"
   ]
  },
  {
   "cell_type": "code",
   "execution_count": 5,
   "metadata": {},
   "outputs": [
    {
     "data": {
      "text/html": [
       "<div>\n",
       "<style scoped>\n",
       "    .dataframe tbody tr th:only-of-type {\n",
       "        vertical-align: middle;\n",
       "    }\n",
       "\n",
       "    .dataframe tbody tr th {\n",
       "        vertical-align: top;\n",
       "    }\n",
       "\n",
       "    .dataframe thead th {\n",
       "        text-align: right;\n",
       "    }\n",
       "</style>\n",
       "<table border=\"1\" class=\"dataframe\">\n",
       "  <thead>\n",
       "    <tr style=\"text-align: right;\">\n",
       "      <th></th>\n",
       "      <th>posting_id</th>\n",
       "      <th>image</th>\n",
       "      <th>image_phash</th>\n",
       "      <th>title</th>\n",
       "      <th>label_group</th>\n",
       "      <th>path</th>\n",
       "    </tr>\n",
       "  </thead>\n",
       "  <tbody>\n",
       "    <tr>\n",
       "      <th>0</th>\n",
       "      <td>train_129225211</td>\n",
       "      <td>0000a68812bc7e98c42888dfb1c07da0.jpg</td>\n",
       "      <td>94974f937d4c2433</td>\n",
       "      <td>Paper Bag Victoria Secret</td>\n",
       "      <td>249114794</td>\n",
       "      <td>C:/Users/Lala/Desktop/dataset/train_images/000...</td>\n",
       "    </tr>\n",
       "    <tr>\n",
       "      <th>1</th>\n",
       "      <td>train_3386243561</td>\n",
       "      <td>00039780dfc94d01db8676fe789ecd05.jpg</td>\n",
       "      <td>af3f9460c2838f0f</td>\n",
       "      <td>Double Tape 3M VHB 12 mm x 4,5 m ORIGINAL / DO...</td>\n",
       "      <td>2937985045</td>\n",
       "      <td>C:/Users/Lala/Desktop/dataset/train_images/000...</td>\n",
       "    </tr>\n",
       "    <tr>\n",
       "      <th>2</th>\n",
       "      <td>train_2288590299</td>\n",
       "      <td>000a190fdd715a2a36faed16e2c65df7.jpg</td>\n",
       "      <td>b94cb00ed3e50f78</td>\n",
       "      <td>Maling TTS Canned Pork Luncheon Meat 397 gr</td>\n",
       "      <td>2395904891</td>\n",
       "      <td>C:/Users/Lala/Desktop/dataset/train_images/000...</td>\n",
       "    </tr>\n",
       "    <tr>\n",
       "      <th>3</th>\n",
       "      <td>train_2406599165</td>\n",
       "      <td>00117e4fc239b1b641ff08340b429633.jpg</td>\n",
       "      <td>8514fc58eafea283</td>\n",
       "      <td>Daster Batik Lengan pendek - Motif Acak / Camp...</td>\n",
       "      <td>4093212188</td>\n",
       "      <td>C:/Users/Lala/Desktop/dataset/train_images/001...</td>\n",
       "    </tr>\n",
       "    <tr>\n",
       "      <th>4</th>\n",
       "      <td>train_3369186413</td>\n",
       "      <td>00136d1cf4edede0203f32f05f660588.jpg</td>\n",
       "      <td>a6f319f924ad708c</td>\n",
       "      <td>Nescafe \\xc3\\x89clair Latte 220ml</td>\n",
       "      <td>3648931069</td>\n",
       "      <td>C:/Users/Lala/Desktop/dataset/train_images/001...</td>\n",
       "    </tr>\n",
       "  </tbody>\n",
       "</table>\n",
       "</div>"
      ],
      "text/plain": [
       "         posting_id                                 image       image_phash  \\\n",
       "0   train_129225211  0000a68812bc7e98c42888dfb1c07da0.jpg  94974f937d4c2433   \n",
       "1  train_3386243561  00039780dfc94d01db8676fe789ecd05.jpg  af3f9460c2838f0f   \n",
       "2  train_2288590299  000a190fdd715a2a36faed16e2c65df7.jpg  b94cb00ed3e50f78   \n",
       "3  train_2406599165  00117e4fc239b1b641ff08340b429633.jpg  8514fc58eafea283   \n",
       "4  train_3369186413  00136d1cf4edede0203f32f05f660588.jpg  a6f319f924ad708c   \n",
       "\n",
       "                                               title  label_group  \\\n",
       "0                          Paper Bag Victoria Secret    249114794   \n",
       "1  Double Tape 3M VHB 12 mm x 4,5 m ORIGINAL / DO...   2937985045   \n",
       "2        Maling TTS Canned Pork Luncheon Meat 397 gr   2395904891   \n",
       "3  Daster Batik Lengan pendek - Motif Acak / Camp...   4093212188   \n",
       "4                  Nescafe \\xc3\\x89clair Latte 220ml   3648931069   \n",
       "\n",
       "                                                path  \n",
       "0  C:/Users/Lala/Desktop/dataset/train_images/000...  \n",
       "1  C:/Users/Lala/Desktop/dataset/train_images/000...  \n",
       "2  C:/Users/Lala/Desktop/dataset/train_images/000...  \n",
       "3  C:/Users/Lala/Desktop/dataset/train_images/001...  \n",
       "4  C:/Users/Lala/Desktop/dataset/train_images/001...  "
      ]
     },
     "execution_count": 5,
     "metadata": {},
     "output_type": "execute_result"
    }
   ],
   "source": [
    "train_images = WORK_DIR + \"/train_images/\" + train['image']\n",
    "train['path'] = train_images\n",
    "\n",
    "test_images = WORK_DIR + \"/test_images/\" + test['image']\n",
    "test['path'] = test_images\n",
    "\n",
    "train.head()"
   ]
  },
  {
   "cell_type": "code",
   "execution_count": 6,
   "metadata": {},
   "outputs": [
    {
     "name": "stdout",
     "output_type": "stream",
     "text": [
      "label_group unique values: 11014\n",
      "image unique values: 32412\n",
      "posting_id unique values: 34250\n",
      "title unique values: 33117\n",
      "image phash unique values: 28735\n"
     ]
    }
   ],
   "source": [
    "print('label_group unique values: {}'.format(train['label_group'].nunique()))\n",
    "print('image unique values: {}'.format(train['image'].nunique()))\n",
    "print('posting_id unique values: {}'.format(train['posting_id'].nunique()))\n",
    "print('title unique values: {}'.format(train['title'].nunique()))\n",
    "print('image phash unique values: {}'.format(train['image_phash'].nunique()))\n"
   ]
  },
  {
   "cell_type": "code",
   "execution_count": 7,
   "metadata": {},
   "outputs": [
    {
     "data": {
      "application/vnd.jupyter.widget-view+json": {
       "model_id": "55d15a0f14804432a81b53a69f966267",
       "version_major": 2,
       "version_minor": 0
      },
      "text/plain": [
       "HBox(children=(FloatProgress(value=0.0, max=34250.0), HTML(value='')))"
      ]
     },
     "metadata": {},
     "output_type": "display_data"
    },
    {
     "name": "stdout",
     "output_type": "stream",
     "text": [
      "\n"
     ]
    }
   ],
   "source": [
    "train['img_shape'] = train['path'].progress_apply(lambda x: np.shape(io.imread(x)))\n",
    "#ski-image"
   ]
  },
  {
   "cell_type": "code",
   "execution_count": 8,
   "metadata": {},
   "outputs": [
    {
     "data": {
      "text/plain": [
       "array([[ True, False, False,  True, False,  True, False, False],\n",
       "       [ True, False, False,  True, False,  True,  True,  True],\n",
       "       [False,  True, False, False,  True,  True,  True,  True],\n",
       "       [ True, False, False,  True, False, False,  True,  True],\n",
       "       [False,  True,  True,  True,  True,  True, False,  True],\n",
       "       [False,  True, False, False,  True,  True, False, False],\n",
       "       [False, False,  True, False, False,  True, False, False],\n",
       "       [False, False,  True,  True, False, False,  True,  True]])"
      ]
     },
     "execution_count": 8,
     "metadata": {},
     "output_type": "execute_result"
    }
   ],
   "source": [
    "imagehash.hex_to_hash(train['image_phash'][0])"
   ]
  },
  {
   "cell_type": "code",
   "execution_count": 9,
   "metadata": {},
   "outputs": [],
   "source": [
    "# Work functions\n",
    "def phash_match(phash_array, element):\n",
    "    \"\"\"\n",
    "    A function that calculates phash diffs.\n",
    "    Takes phashs array and element as input.\n",
    "    Output - phash diff\n",
    "    \"\"\"\n",
    "    phash_diff = phash_array - phash_array[element]\n",
    "    return phash_diff\n",
    "\n",
    "def add_match(phash, i, dataset = train, threshold = 5):\n",
    "    \"\"\"\n",
    "    A function that returns match names.\n",
    "    Takes phash array, i element, dataset and threshold (default = 5).\n",
    "    \"\"\"\n",
    "    diffs = phash_match(phash, i)\n",
    "    matches = [x for x in diffs[diffs <= threshold].index.drop(i).values]\n",
    "    str_matches = ''\n",
    "    str_matches = str_matches + dataset.iloc[i, 0] + ' '\n",
    "    for j in matches:\n",
    "        str_matches = str_matches + dataset.iloc[j, 0] + ' '\n",
    "    str_matches = str_matches[:-1]\n",
    "    return str_matches"
   ]
  },
  {
   "cell_type": "code",
   "execution_count": 10,
   "metadata": {},
   "outputs": [
    {
     "name": "stderr",
     "output_type": "stream",
     "text": [
      "Progress:: 100%|██████████| 1000/1000 [00:08<00:00, 120.91it/s]\n"
     ]
    },
    {
     "data": {
      "text/plain": [
       "['train_129225211',\n",
       " 'train_3386243561',\n",
       " 'train_2288590299',\n",
       " 'train_2406599165',\n",
       " 'train_3369186413',\n",
       " 'train_2464356923',\n",
       " 'train_1802986387',\n",
       " 'train_1806152124',\n",
       " 'train_86570404',\n",
       " 'train_831680791',\n",
       " 'train_1598329973',\n",
       " 'train_2496690777 train_2771755203',\n",
       " 'train_2771755203 train_2496690777',\n",
       " 'train_998568945',\n",
       " 'train_4287573913']"
      ]
     },
     "execution_count": 10,
     "metadata": {},
     "output_type": "execute_result"
    }
   ],
   "source": [
    "phashs = train['image_phash'][:1000].apply(lambda x: imagehash.hex_to_hash(x))\n",
    "str_matches = []\n",
    "\n",
    "for i in tqdm.tqdm(range(len(phashs)), desc = 'Progress:', position = 0, leave = True):\n",
    "    str_matches.append(add_match(phashs, i))\n",
    "\n",
    "str_matches[:15]"
   ]
  },
  {
   "cell_type": "code",
   "execution_count": 11,
   "metadata": {},
   "outputs": [
    {
     "data": {
      "text/html": [
       "<div>\n",
       "<style scoped>\n",
       "    .dataframe tbody tr th:only-of-type {\n",
       "        vertical-align: middle;\n",
       "    }\n",
       "\n",
       "    .dataframe tbody tr th {\n",
       "        vertical-align: top;\n",
       "    }\n",
       "\n",
       "    .dataframe thead th {\n",
       "        text-align: right;\n",
       "    }\n",
       "</style>\n",
       "<table border=\"1\" class=\"dataframe\">\n",
       "  <thead>\n",
       "    <tr style=\"text-align: right;\">\n",
       "      <th></th>\n",
       "      <th>posting_id</th>\n",
       "      <th>image</th>\n",
       "      <th>image_phash</th>\n",
       "      <th>title</th>\n",
       "      <th>path</th>\n",
       "    </tr>\n",
       "  </thead>\n",
       "  <tbody>\n",
       "    <tr>\n",
       "      <th>0</th>\n",
       "      <td>test_2255846744</td>\n",
       "      <td>0006c8e5462ae52167402bac1c2e916e.jpg</td>\n",
       "      <td>ecc292392dc7687a</td>\n",
       "      <td>Edufuntoys - CHARACTER PHONE ada lampu dan mus...</td>\n",
       "      <td>C:/Users/Lala/Desktop/dataset/test_images/0006...</td>\n",
       "    </tr>\n",
       "    <tr>\n",
       "      <th>1</th>\n",
       "      <td>test_3588702337</td>\n",
       "      <td>0007585c4d0f932859339129f709bfdc.jpg</td>\n",
       "      <td>e9968f60d2699e2c</td>\n",
       "      <td>(Beli 1 Free Spatula) Masker Komedo | Blackhea...</td>\n",
       "      <td>C:/Users/Lala/Desktop/dataset/test_images/0007...</td>\n",
       "    </tr>\n",
       "    <tr>\n",
       "      <th>2</th>\n",
       "      <td>test_4015706929</td>\n",
       "      <td>0008377d3662e83ef44e1881af38b879.jpg</td>\n",
       "      <td>ba81c17e3581cabe</td>\n",
       "      <td>READY Lemonilo Mie instant sehat kuah dan goreng</td>\n",
       "      <td>C:/Users/Lala/Desktop/dataset/test_images/0008...</td>\n",
       "    </tr>\n",
       "  </tbody>\n",
       "</table>\n",
       "</div>"
      ],
      "text/plain": [
       "        posting_id                                 image       image_phash  \\\n",
       "0  test_2255846744  0006c8e5462ae52167402bac1c2e916e.jpg  ecc292392dc7687a   \n",
       "1  test_3588702337  0007585c4d0f932859339129f709bfdc.jpg  e9968f60d2699e2c   \n",
       "2  test_4015706929  0008377d3662e83ef44e1881af38b879.jpg  ba81c17e3581cabe   \n",
       "\n",
       "                                               title  \\\n",
       "0  Edufuntoys - CHARACTER PHONE ada lampu dan mus...   \n",
       "1  (Beli 1 Free Spatula) Masker Komedo | Blackhea...   \n",
       "2   READY Lemonilo Mie instant sehat kuah dan goreng   \n",
       "\n",
       "                                                path  \n",
       "0  C:/Users/Lala/Desktop/dataset/test_images/0006...  \n",
       "1  C:/Users/Lala/Desktop/dataset/test_images/0007...  \n",
       "2  C:/Users/Lala/Desktop/dataset/test_images/0008...  "
      ]
     },
     "execution_count": 11,
     "metadata": {},
     "output_type": "execute_result"
    }
   ],
   "source": [
    "test"
   ]
  },
  {
   "cell_type": "code",
   "execution_count": 13,
   "metadata": {},
   "outputs": [
    {
     "name": "stderr",
     "output_type": "stream",
     "text": [
      "Progress:: 100%|██████████| 3/3 [00:00<00:00, 601.56it/s]\n"
     ]
    },
    {
     "data": {
      "text/plain": [
       "['test_2255846744', 'test_3588702337', 'test_4015706929']"
      ]
     },
     "execution_count": 13,
     "metadata": {},
     "output_type": "execute_result"
    }
   ],
   "source": [
    "test_phashs = test['image_phash'].apply(lambda x: imagehash.hex_to_hash(x))\n",
    "test_matches = []\n",
    "\n",
    "for i in tqdm.tqdm(range(len(test_phashs)), desc = 'Progress:', \n",
    "                   position = 0, leave = True):\n",
    "    test_matches.append(add_match(test_phashs, i, test, threshold = 7))\n",
    "\n",
    "test_matches"
   ]
  },
  {
   "cell_type": "code",
   "execution_count": 14,
   "metadata": {},
   "outputs": [
    {
     "data": {
      "text/html": [
       "<div>\n",
       "<style scoped>\n",
       "    .dataframe tbody tr th:only-of-type {\n",
       "        vertical-align: middle;\n",
       "    }\n",
       "\n",
       "    .dataframe tbody tr th {\n",
       "        vertical-align: top;\n",
       "    }\n",
       "\n",
       "    .dataframe thead th {\n",
       "        text-align: right;\n",
       "    }\n",
       "</style>\n",
       "<table border=\"1\" class=\"dataframe\">\n",
       "  <thead>\n",
       "    <tr style=\"text-align: right;\">\n",
       "      <th></th>\n",
       "      <th>matches</th>\n",
       "    </tr>\n",
       "    <tr>\n",
       "      <th>posting_id</th>\n",
       "      <th></th>\n",
       "    </tr>\n",
       "  </thead>\n",
       "  <tbody>\n",
       "    <tr>\n",
       "      <th>test_2255846744</th>\n",
       "      <td>test_2255846744</td>\n",
       "    </tr>\n",
       "    <tr>\n",
       "      <th>test_3588702337</th>\n",
       "      <td>test_3588702337</td>\n",
       "    </tr>\n",
       "    <tr>\n",
       "      <th>test_4015706929</th>\n",
       "      <td>test_4015706929</td>\n",
       "    </tr>\n",
       "  </tbody>\n",
       "</table>\n",
       "</div>"
      ],
      "text/plain": [
       "                         matches\n",
       "posting_id                      \n",
       "test_2255846744  test_2255846744\n",
       "test_3588702337  test_3588702337\n",
       "test_4015706929  test_4015706929"
      ]
     },
     "execution_count": 14,
     "metadata": {},
     "output_type": "execute_result"
    }
   ],
   "source": [
    "ss['matches'] = test_matches\n",
    "ss.to_csv(\"submission.csv\")\n",
    "ss"
   ]
  }
 ],
 "metadata": {
  "kernelspec": {
   "display_name": "Python 3",
   "language": "python",
   "name": "python3"
  },
  "language_info": {
   "codemirror_mode": {
    "name": "ipython",
    "version": 3
   },
   "file_extension": ".py",
   "mimetype": "text/x-python",
   "name": "python",
   "nbconvert_exporter": "python",
   "pygments_lexer": "ipython3",
   "version": "3.8.3"
  }
 },
 "nbformat": 4,
 "nbformat_minor": 4
}
